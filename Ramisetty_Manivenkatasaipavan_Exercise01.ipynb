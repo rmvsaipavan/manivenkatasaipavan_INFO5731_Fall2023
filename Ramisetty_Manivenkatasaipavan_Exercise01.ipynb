{
  "cells": [
    {
      "cell_type": "markdown",
      "metadata": {
        "id": "view-in-github",
        "colab_type": "text"
      },
      "source": [
        "<a href=\"https://colab.research.google.com/github/rmvsaipavan/manivenkatasaipavan_INFO5731_Fall2023/blob/main/Ramisetty_Manivenkatasaipavan_Exercise01.ipynb\" target=\"_parent\"><img src=\"https://colab.research.google.com/assets/colab-badge.svg\" alt=\"Open In Colab\"/></a>"
      ]
    },
    {
      "cell_type": "markdown",
      "metadata": {
        "id": "DymRJbxDBCnf"
      },
      "source": [
        "# **The first In-class-exercise (08/30/2023, 40 points in total)**\n",
        "This exercise is due tomorrow 08/31/203 11:59 PM.\n"
      ]
    },
    {
      "cell_type": "markdown",
      "metadata": {
        "id": "FBKvD6O_TY6e"
      },
      "source": [
        "(1) Write a Python program to calculate the area of a rectangle using user-input length and width."
      ]
    },
    {
      "cell_type": "code",
      "execution_count": null,
      "metadata": {
        "id": "cikVKDXdTbzE",
        "outputId": "4d501a6e-ef5f-4994-f469-397669b64f5f"
      },
      "outputs": [
        {
          "name": "stdout",
          "output_type": "stream",
          "text": [
            "enter the length: 5\n",
            "enter the width: 4\n",
            " area of the rectangle: 20\n"
          ]
        }
      ],
      "source": [
        "# write your answer here\n",
        "length = int(input(\"enter the length: \"))  #takes input from the user\n",
        "width = int(input(\"enter the width: \"))\n",
        "ar_rec= length*width     #area= length * width\n",
        "print(\" area of the rectangle:\", ar_rec)  # prints the calculated area"
      ]
    },
    {
      "cell_type": "markdown",
      "metadata": {
        "id": "E9RqrlwdTfvl"
      },
      "source": [
        "(2) Create a program that takes two numbers from the user and swaps their values without using a temporary variable."
      ]
    },
    {
      "cell_type": "code",
      "execution_count": null,
      "metadata": {
        "id": "4XvRknixTh1g",
        "outputId": "a1675218-c65c-418f-d940-da20ca500845"
      },
      "outputs": [
        {
          "name": "stdout",
          "output_type": "stream",
          "text": [
            "enter first num: 5\n",
            "enter second num: 6\n",
            "After swapping First number is: 6.0 Second number is: 5.0\n"
          ]
        }
      ],
      "source": [
        "# write your answer here\n",
        "def swap_num():\n",
        "    #takes the user input\n",
        "    a= float(input(\"enter first num: \"))\n",
        "    b= float(input(\"enter second num: \"))\n",
        "    #swapping without temp var\n",
        "    a = a + b\n",
        "    b = a - b\n",
        "    a = a - b\n",
        "    print(\"After swapping\", \"First number is:\",a , \"Second number is:\", b)\n",
        "\n",
        "swap_num() #function call\n"
      ]
    },
    {
      "cell_type": "markdown",
      "metadata": {
        "id": "03jb4GZsBkBS"
      },
      "source": [
        "(3) Write a Python program to calculate the length of a string."
      ]
    },
    {
      "cell_type": "code",
      "execution_count": null,
      "metadata": {
        "id": "YaGLbSHHB8Ej",
        "outputId": "dc38174c-20ec-4fb2-f8e4-4243a7880923"
      },
      "outputs": [
        {
          "name": "stdout",
          "output_type": "stream",
          "text": [
            "Enter a string: myname is pavan\n"
          ]
        },
        {
          "data": {
            "text/plain": [
              "15"
            ]
          },
          "execution_count": 1,
          "metadata": {},
          "output_type": "execute_result"
        }
      ],
      "source": [
        "# write your answer here\n",
        "def cal_str_len():\n",
        "    us_inp= input(\"Enter a string: \")   #takes the user input\n",
        "    length = 0         #assigning zero\n",
        "    for _ in us_inp:     #iterate through each character\n",
        "        length += 1\n",
        "    return length\n",
        "cal_str_len()    #function call"
      ]
    },
    {
      "cell_type": "markdown",
      "metadata": {
        "id": "jJDe71iLB616"
      },
      "source": [
        "(4) Write a Python program to count the number of characters in a string.\n",
        "\n",
        "Sample String : 'google.com‘,\n",
        "\n",
        "Expected Result : {'o': 3, 'g': 2, '.': 1, 'e': 1, 'l': 1, 'm': 1, 'c': 1}"
      ]
    },
    {
      "cell_type": "code",
      "execution_count": null,
      "metadata": {
        "id": "MtKskTzbCLaU",
        "outputId": "414b7753-ffb4-4cfa-baed-3fe11c23fb6a"
      },
      "outputs": [
        {
          "data": {
            "text/plain": [
              "{'p': 1, 'a': 4, 'v': 2, 'n': 2, ' ': 1, 'e': 1, 'k': 1, 't': 1}"
            ]
          },
          "execution_count": 8,
          "metadata": {},
          "output_type": "execute_result"
        }
      ],
      "source": [
        "# write your answer here\n",
        "def count_no_of_char(strng):\n",
        "    countt= {}    #initializing an empty dictionary\n",
        "    for c in strng:      #iterate through each character\n",
        "        if c in countt:\n",
        "            countt[c]+=1\n",
        "        else:\n",
        "            countt[c]=1\n",
        "    return countt       #returns the count\n",
        "count_no_of_char(\"pavan venkata\")\n"
      ]
    },
    {
      "cell_type": "markdown",
      "metadata": {
        "id": "55W9AMdXCSpV"
      },
      "source": [
        "(5) Write a Python program to sum all the items in a list."
      ]
    },
    {
      "cell_type": "code",
      "execution_count": null,
      "metadata": {
        "id": "I57NXsauCec2",
        "outputId": "ebc0905f-920f-44a5-f23f-40f172c958ff"
      },
      "outputs": [
        {
          "data": {
            "text/plain": [
              "('sum of list items is', 21)"
            ]
          },
          "execution_count": 6,
          "metadata": {},
          "output_type": "execute_result"
        }
      ],
      "source": [
        "# write your answer here\n",
        "def cal_sum_itms(li_ele):\n",
        "    count=0\n",
        "    for x in li_ele:    #iterate through each num\n",
        "        count+= x\n",
        "    return \"sum of list items is\" , count\n",
        "cal_sum_itms([1,2,3,4,5,6])"
      ]
    },
    {
      "cell_type": "markdown",
      "metadata": {
        "id": "4ulBZ6yhCi9F"
      },
      "source": [
        "(6) Write a Python program to get a string from a given string where all occurrences of its first char have been changed to '\\$', except the first char itself.\n",
        "\n",
        "Sample String : 'restart‘,\n",
        "\n",
        "Expected Result : 'resta\\$t'"
      ]
    },
    {
      "cell_type": "code",
      "execution_count": null,
      "metadata": {
        "id": "Fj0XhwbBCw2o",
        "outputId": "c552e6a6-328c-4b8a-ef61-9c3d2dbceb05"
      },
      "outputs": [
        {
          "name": "stdout",
          "output_type": "stream",
          "text": [
            "The final result resta$t\n"
          ]
        }
      ],
      "source": [
        "\n",
        "def chang_first_char(sam_str):\n",
        "    fir_char= sam_str[0]\n",
        "    fin_str= fir_char+ sam_str[1:].replace(fir_char, \"$\")    #replacing the first cahr ele with $\n",
        "    print(\"The final result\", fin_str)       #prints the final result\n",
        "\n",
        "chang_first_char(\"restart\")\n",
        ""
      ]
    },
    {
      "cell_type": "markdown",
      "metadata": {
        "id": "qVXA3q7ET5JI"
      },
      "source": [
        "(7) Create a program that calculates the factorial of a number using a while loop."
      ]
    },
    {
      "cell_type": "code",
      "execution_count": null,
      "metadata": {
        "id": "Lbt7R6UkT7BA",
        "outputId": "1f2756d6-efeb-4776-c8fe-d3a00bdc0949"
      },
      "outputs": [
        {
          "name": "stdout",
          "output_type": "stream",
          "text": [
            "enter a number: 5\n"
          ]
        },
        {
          "data": {
            "text/plain": [
              "('factorial of a num is ', 120)"
            ]
          },
          "execution_count": 12,
          "metadata": {},
          "output_type": "execute_result"
        }
      ],
      "source": [
        "# write your answer here\n",
        "\n",
        "def fact():\n",
        "    n= int(input(\"enter a number: \"))\n",
        "    fact = 1\n",
        "    while n > 1:\n",
        "        fact *= n\n",
        "        n -= 1\n",
        "    return \"factorial of a num is \", fact\n",
        "fact()\n"
      ]
    },
    {
      "cell_type": "code",
      "execution_count": null,
      "metadata": {
        "id": "LhAOtKZoc_YH",
        "outputId": "629e515f-7197-49c2-c1bb-5415adb25575"
      },
      "outputs": [
        {
          "data": {
            "text/plain": [
              "120"
            ]
          },
          "execution_count": 11,
          "metadata": {},
          "output_type": "execute_result"
        }
      ],
      "source": [
        "def fact(n):\n",
        "\n",
        "    fact = 1\n",
        "    while n > 1:\n",
        "        fact *= n\n",
        "        n -= 1\n",
        "    return fact\n",
        "fact(5)"
      ]
    },
    {
      "cell_type": "markdown",
      "metadata": {
        "id": "6YfbzXMNT--R"
      },
      "source": [
        "(8) Create a program that takes a list of numbers as input and outputs a new list with only the even numbers."
      ]
    },
    {
      "cell_type": "code",
      "execution_count": 8,
      "metadata": {
        "id": "54q7wMQPUAKu",
        "colab": {
          "base_uri": "https://localhost:8080/"
        },
        "outputId": "7b5adce2-eeb0-41d6-f27e-b2658e113e09"
      },
      "outputs": [
        {
          "output_type": "stream",
          "name": "stdout",
          "text": [
            "Enter a list: 5,8,13,17,18\n",
            "Even numbers in the list are: [8, 18]\n"
          ]
        }
      ],
      "source": [
        "# write your answer here\n",
        "input_string = input(\"Enter a list: \")\n",
        "\n",
        "# divide the input string into numbers\n",
        "numbers = input_string.split(',')\n",
        "\n",
        "# Initializing an empty list to store even numbers\n",
        "even_numbers = []\n",
        "\n",
        "# Iterate through all the numbers and check for evenness\n",
        "for num in numbers:\n",
        "    num = int(num.strip())  # Converting each number to an integer\n",
        "    if num % 2 == 0:\n",
        "        even_numbers.append(num)\n",
        "\n",
        "# Display the list of even numbers\n",
        "print(\"Even numbers in the list are:\", even_numbers)"
      ]
    },
    {
      "cell_type": "markdown",
      "metadata": {
        "id": "_bIP7s1MCzue"
      },
      "source": [
        "(9) Write a program with python which could accept two parameter a and b to calculate and output the result of S, where\n",
        "\n",
        "$\\ S=3.14*(1+a/b)^3$\n",
        "\n"
      ]
    },
    {
      "cell_type": "code",
      "execution_count": null,
      "metadata": {
        "id": "w79QilHXD3Mg",
        "outputId": "a5cded82-c388-4092-ffc6-08ee5defd297"
      },
      "outputs": [
        {
          "name": "stdout",
          "output_type": "stream",
          "text": [
            "enter the value of a:2\n",
            "enter the value of b:3\n",
            "The value of s is 14.537037037037033\n"
          ]
        }
      ],
      "source": [
        "\n",
        "def cal(a,b):\n",
        "    s= 3.14 * (1 + a/b) ** 3\n",
        "    print(\"The value of s is\", s)\n",
        "#User inputs\n",
        "a= float(input(\"enter the value of a:\"))\n",
        "b= float(input(\"enter the value of b:\"))\n",
        "cal(a,b)"
      ]
    },
    {
      "cell_type": "markdown",
      "metadata": {
        "id": "xCa2bK9aD4Q3"
      },
      "source": [
        "(10) Write a Python program to concatenate following dictionaries to create a new one.\n",
        "\n",
        "Sample Dictionary : dic1={1:10, 2:20}, dic2={3:30, 4:40}, dic3={5:50,6:60},\n",
        "\n",
        "Expected Result : {1: 10, 2: 20, 3: 30, 4: 40, 5: 50, 6: 60}\n"
      ]
    },
    {
      "cell_type": "code",
      "execution_count": null,
      "metadata": {
        "id": "_z4aLqAbEET1",
        "outputId": "45ddfcec-7043-4d30-ff43-0597b4e8bce3"
      },
      "outputs": [
        {
          "name": "stdout",
          "output_type": "stream",
          "text": [
            "The Concatenated new Dictionary is : {1: 10, 2: 20, 3: 30, 4: 40, 5: 50, 6: 60}\n"
          ]
        }
      ],
      "source": [
        "# write your answer here\n",
        "\n",
        "dic1 = {1: 10, 2: 20}\n",
        "dic2 = {3: 30, 4: 40}\n",
        "dic3 = {5: 50, 6: 60}\n",
        "\n",
        "res_dict = {} #initializing dictionary t0 empty\n",
        "\n",
        "for d in [dic1, dic2, dic3]:\n",
        "    res_dict.update(d)\n",
        "\n",
        "print(\"The Concatenated new Dictionary is :\", res_dict)\n"
      ]
    },
    {
      "cell_type": "markdown",
      "metadata": {
        "id": "bkyZ2xSZUOst"
      },
      "source": [
        "(11) Write a Python function that accepts a tuple of integers and returns the largest and smallest elements."
      ]
    },
    {
      "cell_type": "code",
      "execution_count": null,
      "metadata": {
        "id": "3FdLRBKOUQEd",
        "outputId": "db7dd099-615a-4c0a-fb1a-c8005f9e6b33"
      },
      "outputs": [
        {
          "data": {
            "text/plain": [
              "(1, 52)"
            ]
          },
          "execution_count": 29,
          "metadata": {},
          "output_type": "execute_result"
        }
      ],
      "source": [
        "# write your answer here\n",
        "def lar_ele(int_tup):\n",
        "    if len(int_tup) == 0:  #checking condition if len of tuple =0\n",
        "        return \"not a tuple\"\n",
        "    smal= int_tup[0]\n",
        "    lar= int_tup[0]\n",
        "\n",
        "    for num in int_tup:    # Checking through loop untill int_tup\n",
        "        if num > lar:\n",
        "            lar= num\n",
        "        if num< smal:\n",
        "            smal=num\n",
        "    return smal, lar\n",
        "\n",
        "lar_ele((1,52,4,8,9,6))"
      ]
    },
    {
      "cell_type": "markdown",
      "metadata": {
        "id": "O0TVi3gKUTpp"
      },
      "source": [
        "(12) Write a Python program that counts the frequency of each character in a given string and stores it in a dictionary."
      ]
    },
    {
      "cell_type": "code",
      "execution_count": null,
      "metadata": {
        "id": "lAtfSfZXUU-h",
        "outputId": "1b81e545-74e1-4a5a-ff0a-bbdf52e8db73"
      },
      "outputs": [
        {
          "name": "stdout",
          "output_type": "stream",
          "text": [
            "enter a stringfrequency of each character\n",
            "The frequency of each character is: {'f': 2, 'r': 3, 'e': 4, 'q': 1, 'u': 1, 'n': 1, 'c': 4, 'y': 1, ' ': 3, 'o': 1, 'a': 3, 'h': 2, 't': 1}\n"
          ]
        }
      ],
      "source": [
        "# write your answer here\n",
        "def cou_freq(str_char): #defining cou_freq function\n",
        "\n",
        "\n",
        "    dist_new= {}\n",
        "\n",
        "    for x in str_char:\n",
        "        if x in dist_new:\n",
        "            dist_new[x]+=1\n",
        "        else:\n",
        "            dist_new[x]=1\n",
        "    return  dist_new\n",
        "str_char= input(\"enter a string\")# Getting user input\n",
        "char_freq=cou_freq(str_char)\n",
        "print(\"The frequency of each character is:\", char_freq )"
      ]
    },
    {
      "cell_type": "markdown",
      "metadata": {
        "id": "0v48Vqa7FrQh"
      },
      "source": [
        "(13) Write a Python program to check whether an element exists within a tuple."
      ]
    },
    {
      "cell_type": "code",
      "execution_count": null,
      "metadata": {
        "id": "7WEmgq-DF2P1",
        "outputId": "526f50b4-5032-4dc0-a925-5c698ed2836a"
      },
      "outputs": [
        {
          "name": "stdout",
          "output_type": "stream",
          "text": [
            "enter an  element:5\n"
          ]
        },
        {
          "data": {
            "text/plain": [
              "False"
            ]
          },
          "execution_count": 34,
          "metadata": {},
          "output_type": "execute_result"
        }
      ],
      "source": [
        "# write your answer here\n",
        "def ele_within_tuple(ele, tup):\n",
        "    return ele in tup\n",
        "\n",
        "ele= int(input(\"enter an  element:\"))\n",
        "ele_within_tuple(ele, (1,2,3))"
      ]
    },
    {
      "cell_type": "markdown",
      "metadata": {
        "id": "vD5PYLMuGga_"
      },
      "source": [
        "(14) Write a Python program to find maximum and the minimum value in a set."
      ]
    },
    {
      "cell_type": "code",
      "execution_count": null,
      "metadata": {
        "id": "t0D5kdJUGjjw",
        "outputId": "a5f34f84-16e6-465c-d5f4-abbb1c0181ad"
      },
      "outputs": [
        {
          "name": "stdout",
          "output_type": "stream",
          "text": [
            "maximum value is:  26 minimum value is -8\n"
          ]
        }
      ],
      "source": [
        "# write your answer here\n",
        "def min_max(set_val):#defining function\n",
        "    if len(set_val)==0:\n",
        "        return \"invalid input\"\n",
        "    max_val= max(set_val)\n",
        "    min_val= min(set_val)\n",
        "    print(\"maximum value is: \", max_val, \"minimum value is\", min_val)\n",
        "\n",
        "min_max({1,15,21,-8,26,2})"
      ]
    },
    {
      "cell_type": "markdown",
      "metadata": {
        "id": "uHkd-y5VhVWC"
      },
      "source": [
        "(15) Write a Python program to randomly divide the students in this class into six groups for term projects, each group should have at least 4 students but no more than 6 students (including 6). Here is the students list:\n",
        "student_list_fall_2023=['sb1826' ,\n",
        " 'lb0582' ,\n",
        " 'ab1820' ,\n",
        " 'sb1883' ,\n",
        " 'mb1296' ,\n",
        " 'sc1622' ,\n",
        " 'tc0469' ,\n",
        " 'ac1770' ,\n",
        " 'mc1453' ,\n",
        " 'ad1187' ,\n",
        " 'sd0926' ,\n",
        " 'sd1268' ,\n",
        " 'ag1609' ,\n",
        " 'sg1638' ,\n",
        " 'mg1299' ,\n",
        " 'vkk0022' ,\n",
        " 'bk0413' ,\n",
        " 'gk0257' ,\n",
        " 'am2807' ,\n",
        " 'gm0558' ,\n",
        " 'pm0658' ,\n",
        " 'am2346' ,\n",
        " 'rm1090' ,\n",
        " 'sm2364' ,\n",
        " 'sm2747' ,\n",
        " 'sm2343' ,\n",
        " 'vm0597' ,\n",
        " 'htn0086' ,\n",
        " 'sp2075' ,\n",
        " 'gp0306' ,\n",
        " 'lp0502' ,\n",
        " 'sr1508' ,\n",
        " 'vr0331' ,\n",
        " 'yr0180' ,\n",
        " 'as2819' ,\n",
        " 'ss2981' ,\n",
        " 'ns0756' ,\n",
        " 'mt0825' ,\n",
        " 'dt0463' ,\n",
        " 'su0137' ,\n",
        " 'dv0310'\n",
        "]"
      ]
    },
    {
      "cell_type": "code",
      "execution_count": 6,
      "metadata": {
        "id": "3iGbmcOBhTwy",
        "colab": {
          "base_uri": "https://localhost:8080/"
        },
        "outputId": "f627222b-d5ee-4add-9bb9-5cd4f6ef500d"
      },
      "outputs": [
        {
          "output_type": "stream",
          "name": "stdout",
          "text": [
            "The groups are:\n",
            "['dt0463', 'ac1770', 'mg1299', 'gk0257', 'am2807']\n",
            "['bk0413', 'lp0502', 'mc1453', 'vr0331', 'ss2981']\n",
            "['mb1296', 'vkk0022', 'sc1622', 'su0137', 'sp2075']\n",
            "['sd0926', 'sd1268', 'ag1609', 'dv0310', 'as2819']\n",
            "['htn0086', 'sm2747', 'tc0469', 'rm1090', 'pm0658']\n",
            "['sm2343', 'gp0306', 'sm2364', 'am2346', 'ad1187']\n"
          ]
        }
      ],
      "source": [
        "# write your answer here\n",
        "\n",
        "\n",
        "import random    #imports random funtion\n",
        "\n",
        "\n",
        "def groups(stu_list, num_of_groups, min_stu, max_stu):   #defining the function\n",
        "\n",
        "  g = []\n",
        "  stu_list = list(stu_list)\n",
        "  random.shuffle(stu_list)        #shuffles the student list\n",
        "\n",
        "  for i in range(num_of_groups):    #Iterating over the groups\n",
        "    group = []\n",
        "    for _ in range(min_stu):\n",
        "      group.append(stu_list.pop())   #appending all the stu list that are popped out\n",
        "\n",
        "    if stu_list:\n",
        "      group.append(stu_list.pop())\n",
        "\n",
        "    g.append(group) #appending students list into groups\n",
        "\n",
        "  return g\n",
        "\n",
        "#list of students\n",
        "student_list_fall_2023 = [\n",
        "    'sb1826', 'lb0582', 'ab1820', 'sb1883', 'mb1296', 'sc1622', 'tc0469',\n",
        "    'ac1770', 'mc1453', 'ad1187', 'sd0926', 'sd1268', 'ag1609', 'sg1638',\n",
        "    'mg1299', 'vkk0022', 'bk0413', 'gk0257', 'am2807', 'gm0558', 'pm0658',\n",
        "    'am2346', 'rm1090', 'sm2364', 'sm2747', 'sm2343', 'vm0597', 'htn0086',\n",
        "    'sp2075', 'gp0306', 'lp0502', 'sr1508', 'vr0331', 'yr0180', 'as2819',\n",
        "    'ss2981', 'ns0756', 'mt0825', 'dt0463', 'su0137', 'dv0310'\n",
        "]\n",
        "\n",
        "num_of_groups = 6\n",
        "min_stu = 4\n",
        "max_stu = 6\n",
        "\n",
        "g = groups(student_list_fall_2023, num_of_groups, min_stu, max_stu)  #function call\n",
        "\n",
        "print(\"The groups are:\")\n",
        "for group in g:\n",
        "  print(group)"
      ]
    },
    {
      "cell_type": "markdown",
      "metadata": {
        "id": "fmZ9vX20Qs3d"
      },
      "source": [
        "(16) Write a Python program to find the duplicate elements in a given array of integers. Return -1 If there are no such elements."
      ]
    },
    {
      "cell_type": "code",
      "execution_count": 9,
      "metadata": {
        "id": "W8Jw6sWMQs3d",
        "colab": {
          "base_uri": "https://localhost:8080/"
        },
        "outputId": "cbd1a7f8-9427-4e35-82cf-948f44860a9a"
      },
      "outputs": [
        {
          "output_type": "stream",
          "name": "stdout",
          "text": [
            "[1, 2, 6]\n"
          ]
        }
      ],
      "source": [
        "# write your answer here\n",
        "def dup_ele(arr_int):\n",
        "    l= len(arr_int)\n",
        "    set_st= set()\n",
        "    dup = []         #duplicates\n",
        "    for i in range(l):\n",
        "        if arr_int[i] in set_st:\n",
        "            dup.append(arr_int[i])\n",
        "        else:\n",
        "            set_st.add(arr_int[i])\n",
        "    if not dup:\n",
        "        return -1    # if no duplicates it returns -1\n",
        "    else:\n",
        "        return dup\n",
        "arr_int=[1,5,2,1,2,3,6,6]\n",
        "duplicat=dup_ele(arr_int)\n",
        "print(duplicat)\n"
      ]
    },
    {
      "cell_type": "markdown",
      "metadata": {
        "id": "hvq4APMhQs3d"
      },
      "source": [
        "(17) Write a Python program to select all the Sundays of a specified year."
      ]
    },
    {
      "cell_type": "code",
      "execution_count": null,
      "metadata": {
        "id": "ZnoxhSglQs3d",
        "outputId": "9bbcfdfc-b4b3-4aee-c9e0-c2b2d135dbfb"
      },
      "outputs": [
        {
          "name": "stdout",
          "output_type": "stream",
          "text": [
            "Enter a year: 2023\n",
            "sundays of a year\n",
            "2023-01-01\n",
            "2023-01-08\n",
            "2023-01-15\n",
            "2023-01-22\n",
            "2023-01-29\n",
            "2023-02-05\n",
            "2023-02-12\n",
            "2023-02-19\n",
            "2023-02-26\n",
            "2023-03-05\n",
            "2023-03-12\n",
            "2023-03-19\n",
            "2023-03-26\n",
            "2023-04-02\n",
            "2023-04-09\n",
            "2023-04-16\n",
            "2023-04-23\n",
            "2023-04-30\n",
            "2023-05-07\n",
            "2023-05-14\n",
            "2023-05-21\n",
            "2023-05-28\n",
            "2023-06-04\n",
            "2023-06-11\n",
            "2023-06-18\n",
            "2023-06-25\n",
            "2023-07-02\n",
            "2023-07-09\n",
            "2023-07-16\n",
            "2023-07-23\n",
            "2023-07-30\n",
            "2023-08-06\n",
            "2023-08-13\n",
            "2023-08-20\n",
            "2023-08-27\n",
            "2023-09-03\n",
            "2023-09-10\n",
            "2023-09-17\n",
            "2023-09-24\n",
            "2023-10-01\n",
            "2023-10-08\n",
            "2023-10-15\n",
            "2023-10-22\n",
            "2023-10-29\n",
            "2023-11-05\n",
            "2023-11-12\n",
            "2023-11-19\n",
            "2023-11-26\n",
            "2023-12-03\n",
            "2023-12-10\n",
            "2023-12-17\n",
            "2023-12-24\n",
            "2023-12-31\n"
          ]
        }
      ],
      "source": [
        "# write your answer here\n",
        "import datetime     #imports datatime module\n",
        "\n",
        "def select_allsun(year):\n",
        "    sun=[]  #Initializes empty list of sundays\n",
        "\n",
        "    for mon in range(1,13):    #iterate through each mon\n",
        "        for day in range(1,32):   #iteration of each day\n",
        "            try:\n",
        "                date= datetime.date(year, mon, day)   # creates date object for year, mon, day\n",
        "\n",
        "                if date.weekday() ==6:\n",
        "                    sun.append(date)      # add the date to list of sundays\n",
        "            except ValueError:          #handles\n",
        "                pass\n",
        "    return sun\n",
        "\n",
        "part_year=int(input(\"Enter a year: \"))    #gets the input from the user\n",
        "\n",
        "sun_of_a_year= select_allsun(part_year)\n",
        "\n",
        "if sun_of_a_year:       #check s sundays in a specific year\n",
        "    print(\"sundays of a year\")\n",
        "\n",
        "    for sunday in sun_of_a_year:\n",
        "        print(sunday)      #prints each sunday date\n",
        "\n",
        "\n",
        ""
      ]
    },
    {
      "cell_type": "markdown",
      "metadata": {
        "id": "55FWoSJPVVM6"
      },
      "source": [
        "(18) Build a program that calculates the factorial of a given positive integer. The factorial of a non-negative integer n is the product of all positive integers less than or equal to n."
      ]
    },
    {
      "cell_type": "code",
      "execution_count": null,
      "metadata": {
        "id": "hwtr1wZmVX5A",
        "outputId": "2a87267b-10a6-4218-d1f9-5a64850571ea"
      },
      "outputs": [
        {
          "name": "stdout",
          "output_type": "stream",
          "text": [
            "Enter a positive integer: 3\n",
            "The factorial of 3 is 6\n"
          ]
        }
      ],
      "source": [
        "# write your answer here\n",
        "def fact(n):\n",
        "    if n == 0 or n == 1:  # factorial of 0 and 1 is 1\n",
        "        return 1\n",
        "    else:\n",
        "        fact_n = 1\n",
        "        # Check from 2 to n and multiply the fact_n\n",
        "        for i in range(2, n + 1):\n",
        "            fact_n *= i\n",
        "        return fact_n\n",
        "\n",
        "# Entering the input\n",
        "n = int(input(\"Enter a positive integer: \"))\n",
        "\n",
        "# Checking if input is less than 0\n",
        "if n < 0:\n",
        "    print(\"Factorial of given number is not defined.\")\n",
        "else:\n",
        "    result = fact(n)  # To get the factorial of number Call the function fact\n",
        "    print(f\"The factorial of {n} is {result}\")\n"
      ]
    },
    {
      "cell_type": "markdown",
      "metadata": {
        "id": "Q9ecagcaVazW"
      },
      "source": [
        "(19) Write a program that takes a positive integer n as input and prints the count of even numbers from 1 to n. Use a loop to iterate through the numbers and utilize the break statement to optimize the loop."
      ]
    },
    {
      "cell_type": "code",
      "execution_count": null,
      "metadata": {
        "id": "gycgckoAVZjR",
        "outputId": "d4d95899-ccd6-4081-bcdf-d53f9b6b0138"
      },
      "outputs": [
        {
          "name": "stdout",
          "output_type": "stream",
          "text": [
            "Enter a positive integer: 5\n",
            "The even numbers from 1 to 5  are 2 .\n"
          ]
        }
      ],
      "source": [
        "\n",
        "n = int(input(\"Enter a positive integer: \"))   #Takes the user input\n",
        "\n",
        "\n",
        "count = 0     #Initializing a count to zero\n",
        "# Iterate through numbers from 1 to n\n",
        "for num in range(1, n + 1):\n",
        "    if num % 2 == 0:\n",
        "        count += 1\n",
        "    elif num > n:\n",
        "        break    #\n",
        "\n",
        "#prints the result\n",
        "print(f\"The even numbers from 1 to {n}  are {count} .\")"
      ]
    },
    {
      "cell_type": "markdown",
      "metadata": {
        "id": "cboAr5pEWUf5"
      },
      "source": [
        "(20) Write a Python function called count_vowels that takes a string as input and returns the count of vowels (both lowercase and uppercase) present in the string. Consider the vowels to be 'a', 'e', 'i', 'o', and 'u'. Ignore spaces and other non-alphabetic characters."
      ]
    },
    {
      "cell_type": "code",
      "execution_count": null,
      "metadata": {
        "id": "phs9gciMWWAW",
        "outputId": "268e7217-e8b5-45a2-c5e0-e701feb4367e"
      },
      "outputs": [
        {
          "name": "stdout",
          "output_type": "stream",
          "text": [
            "Enter a string: mani\n",
            "The count of vowels in the given string is: 2\n"
          ]
        }
      ],
      "source": [
        "# write your answer here\n",
        "def count_vowels(input_string):\n",
        "    vowels = 'aeiouAEIOU'  # defining a string to count vowels\n",
        "    v_count = 0  # initializing\n",
        "\n",
        "    # Iterate through each character in the input string\n",
        "    for c in input_string:\n",
        "        if c in vowels:  # checking the vowel\n",
        "            v_count += 1\n",
        "\n",
        "    return v_count\n",
        "\n",
        "# input from the user\n",
        "input_string = input(\"Enter a string: \")\n",
        "\n",
        "# function call\n",
        "vowel_count = count_vowels(input_string)\n",
        "print(f\"The count of vowels in the given string is: {vowel_count}\")\n"
      ]
    }
  ],
  "metadata": {
    "colab": {
      "provenance": [],
      "include_colab_link": true
    },
    "kernelspec": {
      "display_name": "Python 3 (ipykernel)",
      "language": "python",
      "name": "python3"
    },
    "language_info": {
      "codemirror_mode": {
        "name": "ipython",
        "version": 3
      },
      "file_extension": ".py",
      "mimetype": "text/x-python",
      "name": "python",
      "nbconvert_exporter": "python",
      "pygments_lexer": "ipython3",
      "version": "3.9.12"
    }
  },
  "nbformat": 4,
  "nbformat_minor": 0
}