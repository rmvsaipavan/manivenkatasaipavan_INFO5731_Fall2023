{
  "cells": [
    {
      "cell_type": "markdown",
      "metadata": {
        "id": "view-in-github",
        "colab_type": "text"
      },
      "source": [
        "<a href=\"https://colab.research.google.com/github/rmvsaipavan/manivenkatasaipavan_INFO5731_Fall2023/blob/main/Ramisetty_Manivenkatasaipavan_Assignment_01.ipynb\" target=\"_parent\"><img src=\"https://colab.research.google.com/assets/colab-badge.svg\" alt=\"Open In Colab\"/></a>"
      ]
    },
    {
      "cell_type": "markdown",
      "metadata": {
        "id": "Ryk8D1Q4Wsrp"
      },
      "source": [
        "# **INFO5731 Assignment One**"
      ]
    },
    {
      "cell_type": "markdown",
      "metadata": {
        "id": "90_NR8c5XGWc"
      },
      "source": [
        "# Question 1\n",
        "\n",
        "(20 points). Write a Python program to generate 12 random numbers between 1 and 100. Sort the list of numbers in ascending order and print it out. Sort the list of numbers in descending order and print it out. Calculate the average for the group and print it out."
      ]
    },
    {
      "cell_type": "code",
      "execution_count": null,
      "metadata": {
        "id": "SHTis5X5KkyF",
        "outputId": "931fd59b-ad1e-4451-903a-293742c80d73"
      },
      "outputs": [
        {
          "name": "stdout",
          "output_type": "stream",
          "text": [
            "random numbers: [4, 45, 95, 50, 70, 43, 97, 29, 89, 37, 60, 16]\n",
            "Ascending order of 12 random numbers [4, 16, 29, 37, 43, 45, 50, 60, 70, 89, 95, 97]\n",
            "Ascending order of 12 random numbers [97, 95, 89, 70, 60, 50, 45, 43, 37, 29, 16, 4]\n",
            "Average of 12 random numbers:  52.916666666666664\n"
          ]
        }
      ],
      "source": [
        "import random\n",
        "\n",
        "# Generates 12 random numbers between 1 and 100\n",
        "rand_nums = [random.randint(1, 100) for i in range(12)]\n",
        "print(\"random numbers:\", rand_nums)\n",
        "\n",
        "# Sorts the list in ascending order\n",
        "asc_order = sorted(rand_nums)\n",
        "print(\"Ascending order of 12 random numbers\", asc_order)\n",
        "\n",
        "# Sorts the list in descending order\n",
        "desc_order = sorted(rand_nums, reverse=True)\n",
        "print(\"Ascending order of 12 random numbers\", desc_order)\n",
        "\n",
        "# Calculates the average\n",
        "avg = sum(rand_nums) / len(rand_nums)\n",
        "\n",
        "\n",
        "print(\"Average of 12 random numbers: \", avg)\n"
      ]
    },
    {
      "cell_type": "markdown",
      "metadata": {
        "id": "1F_PZdH9Sh49"
      },
      "source": [
        "# Question 2\n",
        "(25 points).\n",
        "\n",
        "Write a program that will do the following string formatting tasks:\n",
        "\n",
        "(1) Ask the user to enter two sentences.\n",
        "\n",
        "(2) Make each sentence into a list. Each element in the list should correspond to a word in the sentence. For example, if the sentence is \"Alas! Am I alive? This is my first python program\", the program should print out ['Alas, '!', 'Am', 'I', 'alive, '?', 'This', 'is', 'my', 'first', 'python', 'program'].\n",
        "\n",
        "(3) Compare the two sentences. Print out a list of words that occur in both sentences.\n",
        "\n",
        "(4) Remove any punctuation from the sentence and print it back out. It should remove at least the following characters, but it can remove more: period(“.”), comma (“,”), semicolon (“;”), and colon (“:”)\n",
        "\n",
        "(5) Count the number of vowels in the sentences. Print out each vowel and the number of times it appears in the sentences, such as: a:2, e:1, i:0, etc"
      ]
    },
    {
      "cell_type": "code",
      "execution_count": null,
      "metadata": {
        "id": "rO1vGZTnKkyK",
        "outputId": "0137b880-5e22-4495-a34b-12b1ce521003"
      },
      "outputs": [
        {
          "name": "stdout",
          "output_type": "stream",
          "text": [
            "Enter the first sentence: Alas! Am I alive?\n",
            "Enter the second sentence: This is my first python program\n",
            "List of words in sentence 1: ['Alas!', 'Am', 'I', 'alive?']\n",
            "List of words in sentence 2: ['This', 'is', 'my', 'first', 'python', 'program']\n",
            "Common words: []\n",
            "Sentence 1 without punctuation in lowercase: alas am i alive\n",
            "Sentence 2 without punctuation in lowercase: this is my first python program\n",
            "Vowel counts in sentence 1: {'a': 4, 'e': 1, 'i': 2, 'o': 0, 'u': 0}\n",
            "Vowel counts in sentence 2: {'a': 1, 'e': 0, 'i': 3, 'o': 2, 'u': 0}\n"
          ]
        }
      ],
      "source": [
        "import string\n",
        "\n",
        "def get_sentences():\n",
        "    # Step 1: Ask the user to enter two sentences\n",
        "    sentence1 = input(\"Enter the first sentence: \")\n",
        "    sentence2 = input(\"Enter the second sentence: \")\n",
        "    return sentence1, sentence2\n",
        "\n",
        "def sentences_to_lists(sentence1, sentence2):\n",
        "    # Step 2: Make each sentence into a list of words\n",
        "    words1 = sentence1.split()\n",
        "    words2 = sentence2.split()\n",
        "    return words1, words2\n",
        "\n",
        "def find_common_words(words1, words2):\n",
        "    # Step 3: Compare the two sentences and find common words\n",
        "    common_words = list(set(words1) & set(words2))\n",
        "    return common_words\n",
        "\n",
        "def remove_punctuation(sentence):\n",
        "    # Step 4: Remove punctuation from the sentence\n",
        "    translator = str.maketrans('', '', string.punctuation)\n",
        "    sentence_no_punct = sentence.translate(translator)\n",
        "    sentence_no_punct = sentence_no_punct.lower()\n",
        "    return sentence_no_punct\n",
        "\n",
        "def count_vowels(sentence):\n",
        "    # Step 5: Count the number of vowels in the sentence\n",
        "    vowels = 'aeiou'\n",
        "    vowel_count = {vowel: 0 for vowel in vowels}\n",
        "    for char in sentence:\n",
        "        if char in vowels:\n",
        "            vowel_count[char.lower()] += 1\n",
        "    return vowel_count\n",
        "\n",
        "# Main program\n",
        "sentence1, sentence2 = get_sentences()\n",
        "\n",
        "words1, words2 = sentences_to_lists(sentence1, sentence2)\n",
        "\n",
        "common_words = find_common_words(words1, words2)\n",
        "\n",
        "sentence1_no_punct = remove_punctuation(sentence1)\n",
        "sentence2_no_punct = remove_punctuation(sentence2)\n",
        "\n",
        "vowel_count1 = count_vowels(sentence1_no_punct)\n",
        "vowel_count2 = count_vowels(sentence2_no_punct)\n",
        "\n",
        "# Print the results\n",
        "print(f\"List of words in sentence 1: {words1}\")\n",
        "print(f\"List of words in sentence 2: {words2}\")\n",
        "print(f\"Common words: {common_words}\")\n",
        "print(f\"Sentence 1 without punctuation in lowercase: {sentence1_no_punct}\")\n",
        "print(f\"Sentence 2 without punctuation in lowercase: {sentence2_no_punct}\")\n",
        "print(f\"Vowel counts in sentence 1: {vowel_count1}\")\n",
        "print(f\"Vowel counts in sentence 2: {vowel_count2}\")\n"
      ]
    },
    {
      "cell_type": "markdown",
      "metadata": {
        "id": "CmFoI4jDS9nx"
      },
      "source": [
        "# Question 3\n",
        "\n",
        "(15 points). The formula that describes the volume V of a sphere with radius r is the following:\n",
        "\n",
        "$ V=\\frac{4}{3}\\ast\\ \\pi\\ast\\ r^3 $\n",
        "\n",
        "Write a program to calculate the value of V when r is in the range of 1–10. Output the result in the following format:\n",
        "\n",
        "\tr\tV\n",
        "\t1\t…\n",
        "\t2\t…\n",
        "\t3\t…\n"
      ]
    },
    {
      "cell_type": "code",
      "execution_count": null,
      "metadata": {
        "id": "pEyqeioAT95b",
        "outputId": "29da63cc-8c34-45da-d390-67e66c102398"
      },
      "outputs": [
        {
          "name": "stdout",
          "output_type": "stream",
          "text": [
            "r    V\n",
            "1    4.19\n",
            "2    33.51\n",
            "3    113.10\n",
            "4    268.08\n",
            "5    523.60\n",
            "6    904.78\n",
            "7    1436.76\n",
            "8    2144.66\n",
            "9    3053.63\n",
            "10    4188.79\n"
          ]
        }
      ],
      "source": [
        "# Your code here\n",
        "\n",
        "import math\n",
        "\n",
        "# Print header\n",
        "print(\"r    V\")\n",
        "\n",
        "# Calculate the volume for each radius in the range 1-10\n",
        "for r in range(1, 11):\n",
        "    # Calculate volume using the formula\n",
        "    V = (4/3) * math.pi * r**3\n",
        "    # Print the radius and its volume\n",
        "    print(f\"{r}    {V:.2f}\")   #upto 2deci\n"
      ]
    },
    {
      "cell_type": "markdown",
      "metadata": {
        "id": "z3tBE7E-Xn5X"
      },
      "source": [
        "# Question 4\n",
        "\n",
        "(40 points). In the field of Data Science, data is often formatted as a comma-delimited (CSV) file, where each line in a file corresponds to a field's value. Refer to Chapter 9 (p. 106) for more information on comma-delimited files. To answer this question, you will need to download the file [Assignment1_denton_housing.csv](https://raw.githubusercontent.com/unt-iialab/info5731-spring2022/main/assignments/Assignment1_denton_housing.csv) included with this assignment. The file [Assignment1_denton_housing.csv](https://raw.githubusercontent.com/unt-iialab/info5731-spring2022/main/assignments/Assignment1_denton_housing.csv) contains statistics about housing in the city of Denton from 2008 to 2014. Write a program to implement the following questions.\n",
        "\n",
        "(1) (10 pts) Calculate the difference in the number of Occupied Housing Units from year to year and print it. The difference must be calculated for the consecutive years such as 2008-2009, 2009-2010 etc. Finally, print the values in the ascending order.\n",
        "\n",
        "(2) (10 pts) For all the years, calculate the percentage of housing units which are vacant an occupied. Print the results in the following format:\n",
        "\n",
        "Year Vacant Housing Units Occupied Housing Units\n",
        "\n",
        "    2008  30%   70%                          \n",
        "\t2009 ----- -----\n",
        "\t2010 ----- -----\n",
        "    2011 ----- -----\n",
        "\t2012 ----- -----\n",
        "    2013 ----- -----\n",
        "\t2014 ----- -----\n",
        "  \n",
        "  \n",
        "\n",
        "(3) (10 pts) Calculate and print the valued and years in which the highest number of housing units were vacant and occupied. Print the results in the following format:  \n",
        "\n",
        "                              Year\tValue\n",
        "\tVacant Housing Units\t  -----   -----\n",
        "\tOccupied Housing Units\t-----   -----\n",
        "\n",
        "(4) (10 pts) Calculate the harmonic mean of the total housing units and print it out. You can find the information about harmonic mean here: https://ncalculators.com/statistics/harmonic-mean-calculator.htm"
      ]
    },
    {
      "cell_type": "code",
      "execution_count": null,
      "metadata": {
        "id": "4BGtJMSFKkyO",
        "outputId": "02e7da86-0af2-4bd4-c9fe-1e588907b4e4"
      },
      "outputs": [
        {
          "name": "stdout",
          "output_type": "stream",
          "text": [
            "  Year Range  Difference in Occupied Housing Units\n",
            "0  2008-2009                                -795.0\n",
            "2  2010-2011                                -303.0\n",
            "3  2011-2012                                1404.0\n",
            "4  2012-2013                                1565.0\n",
            "5  2013-2014                                2622.0\n",
            "1  2009-2010                                5091.0\n"
          ]
        }
      ],
      "source": [
        "import pandas as pd\n",
        "\n",
        "# Load the data from the CSV file\n",
        "housing_data = pd.read_csv('Assignment1_denton_housing.csv')\n",
        "\n",
        "# Filter rows with the 'title' column equal to 'Occupied Housing Units'\n",
        "occupied_units_data = housing_data[housing_data['title_field'] == 'Occupied Housing Units']\n",
        "\n",
        "# Sort the data by year\n",
        "occupied_units_data = occupied_units_data.sort_values(by='year')\n",
        "\n",
        "# Calculate the difference in Occupied Housing Units from year to year\n",
        "occupied_units_data['units_difference'] = occupied_units_data['value'].diff()\n",
        "\n",
        "# Create a new DataFrame to store the year ranges and differences\n",
        "year_ranges = []\n",
        "differences = []\n",
        "\n",
        "for i in range(1, len(occupied_units_data)):\n",
        "    prev_year = occupied_units_data.iloc[i - 1]['year']\n",
        "    current_year = occupied_units_data.iloc[i]['year']\n",
        "    units_diff = occupied_units_data.iloc[i]['units_difference']\n",
        "\n",
        "    year_range = f\"{prev_year}-{current_year}\"\n",
        "    year_ranges.append(year_range)\n",
        "    differences.append(units_diff)\n",
        "\n",
        "# Create a DataFrame to display the results\n",
        "result_df = pd.DataFrame({'Year Range': year_ranges, 'Difference in Occupied Housing Units': differences})\n",
        "\n",
        "# Sort the DataFrame by differences in ascending order\n",
        "result_df = result_df.sort_values(by='Difference in Occupied Housing Units')\n",
        "\n",
        "# Print the sorted results\n",
        "print(result_df)\n"
      ]
    },
    {
      "cell_type": "code",
      "execution_count": null,
      "metadata": {
        "id": "H2bWoGk9KkyP",
        "outputId": "26fe3e7f-ab09-4b31-ff5c-b734fa9c2b04"
      },
      "outputs": [
        {
          "name": "stdout",
          "output_type": "stream",
          "text": [
            " year  % Vacant  % Occupied\n",
            " 2014  5.730111   94.269889\n",
            " 2013  8.801788   91.198212\n",
            " 2012  6.677600   93.322400\n",
            " 2011  9.379522   90.620478\n",
            " 2010  8.142556   91.857444\n",
            " 2009  9.071116   90.928884\n",
            " 2008 10.882653   89.117347\n"
          ]
        }
      ],
      "source": [
        "import pandas as pd\n",
        "\n",
        "# Read the CSV file\n",
        "df = pd.read_csv('Assignment1_denton_housing.csv')\n",
        "\n",
        "# Filter rows with 'title_field' as 'Total Housing Units'\n",
        "total_units = df[df['title_field'] == 'Total Housing Units']\n",
        "\n",
        "# Filter rows with 'title_field' as 'Vacant Housing Units'\n",
        "vacant_units = df[df['title_field'] == 'Vacant Housing Units']\n",
        "\n",
        "# Merge the total and vacant units DataFrames on 'year'\n",
        "result = pd.merge(total_units, vacant_units, on='year', suffixes=('_total', '_vacant'))\n",
        "\n",
        "# Calculate the percentages of vacant and occupied\n",
        "result['% Vacant'] = (result['value_vacant'] / result['value_total']) * 100\n",
        "result['% Occupied'] = 100 - result['% Vacant']\n",
        "\n",
        "# Print the results\n",
        "print(result[['year', '% Vacant', '% Occupied']].to_string(index=False))\n"
      ]
    },
    {
      "cell_type": "code",
      "execution_count": null,
      "metadata": {
        "id": "CUp1NEG1KkyQ",
        "outputId": "b85d4899-727a-49c8-f3ec-58a153198757"
      },
      "outputs": [
        {
          "name": "stdout",
          "output_type": "stream",
          "text": [
            "                           Year  Value\n",
            "Vacant Housing Units      2008   4483\n",
            "Occupied Housing Units    2014   46295\n"
          ]
        }
      ],
      "source": [
        "import pandas as pd\n",
        "\n",
        "# Read the CSV file\n",
        "df = pd.read_csv('Assignment1_denton_housing.csv')\n",
        "\n",
        "# Filter rows with 'title_field' as 'Vacant Housing Units'\n",
        "vacant_units = df[df['title_field'] == 'Vacant Housing Units']\n",
        "\n",
        "# Filter rows with 'title_field' as 'Occupied Housing Units'\n",
        "occupied_units = df[df['title_field'] == 'Occupied Housing Units']\n",
        "\n",
        "# Find the year with the highest number of vacant units\n",
        "year_with_highest_vacant = vacant_units[vacant_units['value'] == vacant_units['value'].max()]\n",
        "\n",
        "# Find the year with the highest number of occupied units\n",
        "year_with_highest_occupied = occupied_units[occupied_units['value'] == occupied_units['value'].max()]\n",
        "\n",
        "# Print the results in the specified format\n",
        "print(\"                           Year  Value\")\n",
        "print(f\"Vacant Housing Units      {year_with_highest_vacant.iloc[0]['year']}   {year_with_highest_vacant.iloc[0]['value']}\")\n",
        "print(f\"Occupied Housing Units    {year_with_highest_occupied.iloc[0]['year']}   {year_with_highest_occupied.iloc[0]['value']}\")\n"
      ]
    },
    {
      "cell_type": "code",
      "execution_count": null,
      "metadata": {
        "id": "dFOVjNgsKkyQ",
        "outputId": "5a378d02-7bd0-4364-ad86-b45fd118ef9f"
      },
      "outputs": [
        {
          "name": "stdout",
          "output_type": "stream",
          "text": [
            "The harmonic mean of the total housing units is: 44398.29\n"
          ]
        }
      ],
      "source": [
        "import pandas as pd\n",
        "from scipy import stats\n",
        "\n",
        "# Read the CSV file\n",
        "df = pd.read_csv('Assignment1_denton_housing.csv')\n",
        "\n",
        "# Filter rows with 'title_field' as 'Total Housing Units'\n",
        "tot_units = df[df['title_field'] == 'Total Housing Units']\n",
        "\n",
        "# Calculate the harmonic mean\n",
        "harmonic_mean = stats.hmean(tot_units['value'])\n",
        "\n",
        "# Print the harmonic mean\n",
        "print(f\"The harmonic mean of the total housing units is: {harmonic_mean:.2f}\")    #taken upto 2 decimal\n"
      ]
    },
    {
      "cell_type": "code",
      "execution_count": null,
      "metadata": {
        "id": "ERiZroGCKkyR"
      },
      "outputs": [],
      "source": []
    },
    {
      "cell_type": "code",
      "execution_count": null,
      "metadata": {
        "id": "8kPFYDobKkyR"
      },
      "outputs": [],
      "source": []
    },
    {
      "cell_type": "code",
      "execution_count": null,
      "metadata": {
        "id": "_mjTc5C0KkyR"
      },
      "outputs": [],
      "source": []
    }
  ],
  "metadata": {
    "colab": {
      "provenance": [],
      "include_colab_link": true
    },
    "kernelspec": {
      "display_name": "Python 3 (ipykernel)",
      "language": "python",
      "name": "python3"
    },
    "language_info": {
      "codemirror_mode": {
        "name": "ipython",
        "version": 3
      },
      "file_extension": ".py",
      "mimetype": "text/x-python",
      "name": "python",
      "nbconvert_exporter": "python",
      "pygments_lexer": "ipython3",
      "version": "3.9.12"
    }
  },
  "nbformat": 4,
  "nbformat_minor": 0
}